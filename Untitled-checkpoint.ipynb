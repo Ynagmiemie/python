{
 "cells": [
  {
   "cell_type": "code",
   "execution_count": 1,
   "metadata": {},
   "outputs": [],
   "source": [
    "import pandas as pd\n",
    "import numpy as np\n",
    "import matplotlib.pyplot as plt\n",
    "import seaborn as sns\n",
    "%matplotlib inline\n",
    "plt.rcParams['font.sans-serif'] = ['SimHei'] # 指定默认字体\n",
    "plt.rcParams['axes.unicode_minus'] = False # 解决保存图像是负号'-'显示为方块的问题"
   ]
  },
  {
   "cell_type": "code",
   "execution_count": 13,
   "metadata": {},
   "outputs": [],
   "source": [
    "agg1=pd.read_csv('lyy.csv')"
   ]
  },
  {
   "cell_type": "code",
   "execution_count": 14,
   "metadata": {},
   "outputs": [
    {
     "data": {
      "text/html": [
       "<div>\n",
       "<style scoped>\n",
       "    .dataframe tbody tr th:only-of-type {\n",
       "        vertical-align: middle;\n",
       "    }\n",
       "\n",
       "    .dataframe tbody tr th {\n",
       "        vertical-align: top;\n",
       "    }\n",
       "\n",
       "    .dataframe thead th {\n",
       "        text-align: right;\n",
       "    }\n",
       "</style>\n",
       "<table border=\"1\" class=\"dataframe\">\n",
       "  <thead>\n",
       "    <tr style=\"text-align: right;\">\n",
       "      <th></th>\n",
       "      <th>date</th>\n",
       "      <th>game_size</th>\n",
       "      <th>match_id</th>\n",
       "      <th>match_mode</th>\n",
       "      <th>party_size</th>\n",
       "      <th>player_assists</th>\n",
       "      <th>player_dbno</th>\n",
       "      <th>player_dist_ride</th>\n",
       "      <th>player_dist_walk</th>\n",
       "      <th>player_dmg</th>\n",
       "      <th>player_kills</th>\n",
       "      <th>player_name</th>\n",
       "      <th>player_survive_time</th>\n",
       "      <th>team_id</th>\n",
       "      <th>team_placement</th>\n",
       "    </tr>\n",
       "  </thead>\n",
       "  <tbody>\n",
       "    <tr>\n",
       "      <th>0</th>\n",
       "      <td>2017/11/26 9:47</td>\n",
       "      <td>97</td>\n",
       "      <td>2U4GBNA0Yml_MDIpsXDjMltu0-r8UqS8skCECcelwiP7iu...</td>\n",
       "      <td>tpp</td>\n",
       "      <td>1</td>\n",
       "      <td>0</td>\n",
       "      <td>0</td>\n",
       "      <td>0.00000</td>\n",
       "      <td>2082.823000</td>\n",
       "      <td>0</td>\n",
       "      <td>0</td>\n",
       "      <td>fuckeddup</td>\n",
       "      <td>661.491</td>\n",
       "      <td>100001</td>\n",
       "      <td>50</td>\n",
       "    </tr>\n",
       "    <tr>\n",
       "      <th>1</th>\n",
       "      <td>2017/11/26 9:47</td>\n",
       "      <td>97</td>\n",
       "      <td>2U4GBNA0Yml_MDIpsXDjMltu0-r8UqS8skCECcelwiP7iu...</td>\n",
       "      <td>tpp</td>\n",
       "      <td>1</td>\n",
       "      <td>0</td>\n",
       "      <td>0</td>\n",
       "      <td>0.00000</td>\n",
       "      <td>1118.815000</td>\n",
       "      <td>0</td>\n",
       "      <td>0</td>\n",
       "      <td>nojiongegg</td>\n",
       "      <td>741.359</td>\n",
       "      <td>100002</td>\n",
       "      <td>47</td>\n",
       "    </tr>\n",
       "    <tr>\n",
       "      <th>2</th>\n",
       "      <td>2017/11/26 9:47</td>\n",
       "      <td>97</td>\n",
       "      <td>2U4GBNA0Yml_MDIpsXDjMltu0-r8UqS8skCECcelwiP7iu...</td>\n",
       "      <td>tpp</td>\n",
       "      <td>1</td>\n",
       "      <td>0</td>\n",
       "      <td>0</td>\n",
       "      <td>0.00000</td>\n",
       "      <td>25.533026</td>\n",
       "      <td>73</td>\n",
       "      <td>0</td>\n",
       "      <td>Darthmoca</td>\n",
       "      <td>83.255</td>\n",
       "      <td>100006</td>\n",
       "      <td>97</td>\n",
       "    </tr>\n",
       "    <tr>\n",
       "      <th>3</th>\n",
       "      <td>2017/11/26 9:47</td>\n",
       "      <td>97</td>\n",
       "      <td>2U4GBNA0Yml_MDIpsXDjMltu0-r8UqS8skCECcelwiP7iu...</td>\n",
       "      <td>tpp</td>\n",
       "      <td>1</td>\n",
       "      <td>0</td>\n",
       "      <td>0</td>\n",
       "      <td>997.51000</td>\n",
       "      <td>1032.667850</td>\n",
       "      <td>345</td>\n",
       "      <td>3</td>\n",
       "      <td>gk1715</td>\n",
       "      <td>1144.816</td>\n",
       "      <td>100007</td>\n",
       "      <td>30</td>\n",
       "    </tr>\n",
       "    <tr>\n",
       "      <th>4</th>\n",
       "      <td>2017/11/26 9:47</td>\n",
       "      <td>97</td>\n",
       "      <td>2U4GBNA0Yml_MDIpsXDjMltu0-r8UqS8skCECcelwiP7iu...</td>\n",
       "      <td>tpp</td>\n",
       "      <td>1</td>\n",
       "      <td>0</td>\n",
       "      <td>0</td>\n",
       "      <td>4296.35938</td>\n",
       "      <td>2300.323490</td>\n",
       "      <td>449</td>\n",
       "      <td>4</td>\n",
       "      <td>Angeliaboby</td>\n",
       "      <td>1112.843</td>\n",
       "      <td>100021</td>\n",
       "      <td>32</td>\n",
       "    </tr>\n",
       "  </tbody>\n",
       "</table>\n",
       "</div>"
      ],
      "text/plain": [
       "              date  game_size  \\\n",
       "0  2017/11/26 9:47         97   \n",
       "1  2017/11/26 9:47         97   \n",
       "2  2017/11/26 9:47         97   \n",
       "3  2017/11/26 9:47         97   \n",
       "4  2017/11/26 9:47         97   \n",
       "\n",
       "                                            match_id match_mode  party_size  \\\n",
       "0  2U4GBNA0Yml_MDIpsXDjMltu0-r8UqS8skCECcelwiP7iu...        tpp           1   \n",
       "1  2U4GBNA0Yml_MDIpsXDjMltu0-r8UqS8skCECcelwiP7iu...        tpp           1   \n",
       "2  2U4GBNA0Yml_MDIpsXDjMltu0-r8UqS8skCECcelwiP7iu...        tpp           1   \n",
       "3  2U4GBNA0Yml_MDIpsXDjMltu0-r8UqS8skCECcelwiP7iu...        tpp           1   \n",
       "4  2U4GBNA0Yml_MDIpsXDjMltu0-r8UqS8skCECcelwiP7iu...        tpp           1   \n",
       "\n",
       "   player_assists  player_dbno  player_dist_ride  player_dist_walk  \\\n",
       "0               0            0           0.00000       2082.823000   \n",
       "1               0            0           0.00000       1118.815000   \n",
       "2               0            0           0.00000         25.533026   \n",
       "3               0            0         997.51000       1032.667850   \n",
       "4               0            0        4296.35938       2300.323490   \n",
       "\n",
       "   player_dmg  player_kills  player_name  player_survive_time  team_id  \\\n",
       "0           0             0    fuckeddup              661.491   100001   \n",
       "1           0             0   nojiongegg              741.359   100002   \n",
       "2          73             0    Darthmoca               83.255   100006   \n",
       "3         345             3       gk1715             1144.816   100007   \n",
       "4         449             4  Angeliaboby             1112.843   100021   \n",
       "\n",
       "   team_placement  \n",
       "0              50  \n",
       "1              47  \n",
       "2              97  \n",
       "3              30  \n",
       "4              32  "
      ]
     },
     "execution_count": 14,
     "metadata": {},
     "output_type": "execute_result"
    }
   ],
   "source": [
    "agg1.head()"
   ]
  },
  {
   "cell_type": "code",
   "execution_count": 15,
   "metadata": {},
   "outputs": [
    {
     "data": {
      "text/plain": [
       "(10000, 15)"
      ]
     },
     "execution_count": 15,
     "metadata": {},
     "output_type": "execute_result"
    }
   ],
   "source": [
    "agg1.shape"
   ]
  },
  {
   "cell_type": "code",
   "execution_count": 8,
   "metadata": {},
   "outputs": [],
   "source": [
    "agg1.drop_duplicates(inplace=True)"
   ]
  },
  {
   "cell_type": "code",
   "execution_count": 9,
   "metadata": {},
   "outputs": [
    {
     "data": {
      "text/plain": [
       "date                                                     2017/11/26 9:47\n",
       "game_size                                                             97\n",
       "match_id               2U4GBNA0Yml_MDIpsXDjMltu0-r8UqS8skCECcelwiP7iu...\n",
       "match_mode                                                           tpp\n",
       "party_size                                                             1\n",
       "player_assists                                                         0\n",
       "player_dbno                                                            0\n",
       "player_dist_ride                                                       0\n",
       "player_dist_walk                                                 1118.82\n",
       "player_dmg                                                             0\n",
       "player_kills                                                           0\n",
       "player_name                                                   nojiongegg\n",
       "player_survive_time                                              741.359\n",
       "team_id                                                           100002\n",
       "team_placement                                                        47\n",
       "Name: 1, dtype: object"
      ]
     },
     "execution_count": 9,
     "metadata": {},
     "output_type": "execute_result"
    }
   ],
   "source": [
    "agg1.loc[1]"
   ]
  },
  {
   "cell_type": "code",
   "execution_count": 20,
   "metadata": {},
   "outputs": [],
   "source": [
    "agg1['won'] = agg1['team_placement'] == 1"
   ]
  },
  {
   "cell_type": "code",
   "execution_count": 21,
   "metadata": {},
   "outputs": [],
   "source": [
    "agg1['drove'] = agg1['player_dist_ride'] != 0"
   ]
  },
  {
   "cell_type": "code",
   "execution_count": 22,
   "metadata": {},
   "outputs": [
    {
     "data": {
      "text/plain": [
       "Text(0.5, 1.0, '击杀人数与吃鸡概率的关系')"
      ]
     },
     "execution_count": 22,
     "metadata": {},
     "output_type": "execute_result"
    },
    {
     "data": {
      "image/png": "[encoded data removed]",
      "text/plain": [
       "<Figure size 1080x432 with 1 Axes>"
      ]
     },
     "metadata": {
      "needs_background": "light"
     },
     "output_type": "display_data"
    }
   ],
   "source": [
    "agg1.loc[agg1['player_kills'] < 40, ['player_kills', 'won']].groupby('player_kills').won.mean().plot.bar(figsize=(15,6), rot=0)\n",
    "plt.xlabel('击杀人数', fontsize=14)\n",
    "plt.ylabel(\"吃鸡概率\", fontsize=14)\n",
    "plt.title('击杀人数与吃鸡概率的关系', fontsize=14)"
   ]
  },
  {
   "cell_type": "code",
   "execution_count": 51,
   "metadata": {},
   "outputs": [],
   "source": [
    "dmg = agg1.loc[agg1['player_dmg']<1600, ['player_dmg','won']]"
   ]
  },
  {
   "cell_type": "code",
   "execution_count": 52,
   "metadata": {},
   "outputs": [],
   "source": [
    "labels=[\"0-200\", \"200-400\", \"400-600\", \"600-800\",\"800-1000\", \"1000-1200\", \"1200-1400\", \"1400-1600\"]\n",
    "dmg['dmg_cut'] = pd.cut(dmg['player_dmg'], 8, labels=labels)"
   ]
  },
  {
   "cell_type": "code",
   "execution_count": 53,
   "metadata": {},
   "outputs": [
    {
     "data": {
      "text/plain": [
       "Text(0.5, 1.0, '伤害量与吃鸡概率的关系')"
      ]
     },
     "execution_count": 53,
     "metadata": {},
     "output_type": "execute_result"
    },
    {
     "data": {
      "image/png": "[encoded data removed]",
      "text/plain": [
       "<Figure size 576x288 with 1 Axes>"
      ]
     },
     "metadata": {
      "needs_background": "light"
     },
     "output_type": "display_data"
    }
   ],
   "source": [
    "dmg.groupby('dmg_cut').won.mean().plot.bar(rot=60, figsize=(8,4))\n",
    "plt.xlabel(\"伤害量\", fontsize=14)\n",
    "plt.ylabel(\"吃鸡概率\", fontsize=14)\n",
    "plt.title('伤害量与吃鸡概率的关系', fontsize=14)"
   ]
  },
  {
   "cell_type": "code",
   "execution_count": 108,
   "metadata": {},
   "outputs": [],
   "source": [
    "agg2 = pd.read_csv('kill.csv')"
   ]
  },
  {
   "cell_type": "code",
   "execution_count": 109,
   "metadata": {},
   "outputs": [
    {
     "data": {
      "text/html": [
       "<div>\n",
       "<style scoped>\n",
       "    .dataframe tbody tr th:only-of-type {\n",
       "        vertical-align: middle;\n",
       "    }\n",
       "\n",
       "    .dataframe tbody tr th {\n",
       "        vertical-align: top;\n",
       "    }\n",
       "\n",
       "    .dataframe thead th {\n",
       "        text-align: right;\n",
       "    }\n",
       "</style>\n",
       "<table border=\"1\" class=\"dataframe\">\n",
       "  <thead>\n",
       "    <tr style=\"text-align: right;\">\n",
       "      <th></th>\n",
       "      <th>killed_by</th>\n",
       "      <th>killer_name</th>\n",
       "      <th>killer_placement</th>\n",
       "      <th>killer_position_x</th>\n",
       "      <th>killer_position_y</th>\n",
       "      <th>map</th>\n",
       "      <th>match_id</th>\n",
       "      <th>time</th>\n",
       "      <th>victim_name</th>\n",
       "      <th>victim_placement</th>\n",
       "      <th>victim_position_x</th>\n",
       "      <th>victim_position_y</th>\n",
       "    </tr>\n",
       "  </thead>\n",
       "  <tbody>\n",
       "    <tr>\n",
       "      <th>0</th>\n",
       "      <td>SCAR-L</td>\n",
       "      <td>854545656</td>\n",
       "      <td>1.0</td>\n",
       "      <td>366716.6</td>\n",
       "      <td>302736.6</td>\n",
       "      <td>MIRAMAR</td>\n",
       "      <td>2U4GBNA0YmmZtkItUaRt5bERD2XnqEiYq0Lv_ysjwIZsUH...</td>\n",
       "      <td>1059</td>\n",
       "      <td>SmileyRiley</td>\n",
       "      <td>32.0</td>\n",
       "      <td>366591.3</td>\n",
       "      <td>302851.8</td>\n",
       "    </tr>\n",
       "    <tr>\n",
       "      <th>1</th>\n",
       "      <td>AKM</td>\n",
       "      <td>chane_e</td>\n",
       "      <td>57.0</td>\n",
       "      <td>436041.6</td>\n",
       "      <td>276913.3</td>\n",
       "      <td>MIRAMAR</td>\n",
       "      <td>2U4GBNA0YmmZtkItUaRt5bERD2XnqEiYq0Lv_ysjwIZsUH...</td>\n",
       "      <td>109</td>\n",
       "      <td>bonesaw53</td>\n",
       "      <td>85.0</td>\n",
       "      <td>434867.2</td>\n",
       "      <td>276258.3</td>\n",
       "    </tr>\n",
       "    <tr>\n",
       "      <th>2</th>\n",
       "      <td>Hit by Car</td>\n",
       "      <td>LY0629</td>\n",
       "      <td>42.0</td>\n",
       "      <td>265942.7</td>\n",
       "      <td>404094.2</td>\n",
       "      <td>MIRAMAR</td>\n",
       "      <td>2U4GBNA0YmmZtkItUaRt5bERD2XnqEiYq0Lv_ysjwIZsUH...</td>\n",
       "      <td>624</td>\n",
       "      <td>Robi256</td>\n",
       "      <td>44.0</td>\n",
       "      <td>265409.5</td>\n",
       "      <td>403900.4</td>\n",
       "    </tr>\n",
       "    <tr>\n",
       "      <th>3</th>\n",
       "      <td>SKS</td>\n",
       "      <td>Supramida</td>\n",
       "      <td>6.0</td>\n",
       "      <td>339174.6</td>\n",
       "      <td>258929.0</td>\n",
       "      <td>MIRAMAR</td>\n",
       "      <td>2U4GBNA0YmmZtkItUaRt5bERD2XnqEiYq0Lv_ysjwIZsUH...</td>\n",
       "      <td>1450</td>\n",
       "      <td>Senorbotches</td>\n",
       "      <td>14.0</td>\n",
       "      <td>331995.5</td>\n",
       "      <td>253868.1</td>\n",
       "    </tr>\n",
       "    <tr>\n",
       "      <th>4</th>\n",
       "      <td>M416</td>\n",
       "      <td>scopionzy</td>\n",
       "      <td>3.0</td>\n",
       "      <td>289848.4</td>\n",
       "      <td>290939.0</td>\n",
       "      <td>MIRAMAR</td>\n",
       "      <td>2U4GBNA0YmmZtkItUaRt5bERD2XnqEiYq0Lv_ysjwIZsUH...</td>\n",
       "      <td>1296</td>\n",
       "      <td>lukesteeler</td>\n",
       "      <td>24.0</td>\n",
       "      <td>290196.1</td>\n",
       "      <td>291358.5</td>\n",
       "    </tr>\n",
       "  </tbody>\n",
       "</table>\n",
       "</div>"
      ],
      "text/plain": [
       "    killed_by killer_name  killer_placement  killer_position_x  \\\n",
       "0      SCAR-L   854545656               1.0           366716.6   \n",
       "1         AKM     chane_e              57.0           436041.6   \n",
       "2  Hit by Car      LY0629              42.0           265942.7   \n",
       "3         SKS   Supramida               6.0           339174.6   \n",
       "4        M416   scopionzy               3.0           289848.4   \n",
       "\n",
       "   killer_position_y      map  \\\n",
       "0           302736.6  MIRAMAR   \n",
       "1           276913.3  MIRAMAR   \n",
       "2           404094.2  MIRAMAR   \n",
       "3           258929.0  MIRAMAR   \n",
       "4           290939.0  MIRAMAR   \n",
       "\n",
       "                                            match_id  time   victim_name  \\\n",
       "0  2U4GBNA0YmmZtkItUaRt5bERD2XnqEiYq0Lv_ysjwIZsUH...  1059   SmileyRiley   \n",
       "1  2U4GBNA0YmmZtkItUaRt5bERD2XnqEiYq0Lv_ysjwIZsUH...   109     bonesaw53   \n",
       "2  2U4GBNA0YmmZtkItUaRt5bERD2XnqEiYq0Lv_ysjwIZsUH...   624       Robi256   \n",
       "3  2U4GBNA0YmmZtkItUaRt5bERD2XnqEiYq0Lv_ysjwIZsUH...  1450  Senorbotches   \n",
       "4  2U4GBNA0YmmZtkItUaRt5bERD2XnqEiYq0Lv_ysjwIZsUH...  1296   lukesteeler   \n",
       "\n",
       "   victim_placement  victim_position_x  victim_position_y  \n",
       "0              32.0           366591.3           302851.8  \n",
       "1              85.0           434867.2           276258.3  \n",
       "2              44.0           265409.5           403900.4  \n",
       "3              14.0           331995.5           253868.1  \n",
       "4              24.0           290196.1           291358.5  "
      ]
     },
     "execution_count": 109,
     "metadata": {},
     "output_type": "execute_result"
    }
   ],
   "source": [
    "agg2.head()"
   ]
  },
  {
   "cell_type": "code",
   "execution_count": 110,
   "metadata": {},
   "outputs": [
    {
     "data": {
      "text/plain": [
       "(10000, 12)"
      ]
     },
     "execution_count": 110,
     "metadata": {},
     "output_type": "execute_result"
    }
   ],
   "source": [
    "agg2.shape"
   ]
  },
  {
   "cell_type": "code",
   "execution_count": 111,
   "metadata": {},
   "outputs": [],
   "source": [
    "agg2['dead'] = agg2['killer_placement']!=1"
   ]
  },
  {
   "cell_type": "code",
   "execution_count": 115,
   "metadata": {},
   "outputs": [],
   "source": [
    "time_1 = agg2.loc[agg2['time']<=2213,['time','dead']]"
   ]
  },
  {
   "cell_type": "code",
   "execution_count": 116,
   "metadata": {},
   "outputs": [],
   "source": [
    "labels=[\"0-4\", \"4-8\", \"8-12\",\"12-16\", \"16-20\", \"20-24\", \"24-28\", \"28-32\", \"32-36\", \"36-40\"]\n",
    "time_1['time_1_cut'] = pd.cut(time_1['time'],10, labels=labels)"
   ]
  },
  {
   "cell_type": "code",
   "execution_count": 117,
   "metadata": {},
   "outputs": [
    {
     "data": {
      "text/plain": [
       "Text(0.5, 1.0, '时间与死亡的关系')"
      ]
     },
     "execution_count": 117,
     "metadata": {},
     "output_type": "execute_result"
    },
    {
     "data": {
      "image/png": "[encoded data removed]",
      "text/plain": [
       "<Figure size 576x288 with 1 Axes>"
      ]
     },
     "metadata": {
      "needs_background": "light"
     },
     "output_type": "display_data"
    }
   ],
   "source": [
    "time_1.groupby('time_1_cut').dead.sum().plot.bar(rot=60, figsize=(8,4))\n",
    "plt.xlabel(\"时间\", fontsize=14)\n",
    "plt.ylabel(\"死亡\", fontsize=14)\n",
    "plt.title('时间与死亡的关系', fontsize=14)"
   ]
  },
  {
   "cell_type": "code",
   "execution_count": 91,
   "metadata": {},
   "outputs": [
    {
     "name": "stdout",
     "output_type": "stream",
     "text": [
      "<class 'pandas.core.frame.DataFrame'>\n",
      "RangeIndex: 10000 entries, 0 to 9999\n",
      "Data columns (total 13 columns):\n",
      " #   Column             Non-Null Count  Dtype  \n",
      "---  ------             --------------  -----  \n",
      " 0   killed_by          10000 non-null  object \n",
      " 1   killer_name        9245 non-null   object \n",
      " 2   killer_placement   9245 non-null   float64\n",
      " 3   killer_position_x  9245 non-null   float64\n",
      " 4   killer_position_y  9245 non-null   float64\n",
      " 5   map                10000 non-null  object \n",
      " 6   match_id           10000 non-null  object \n",
      " 7   time               10000 non-null  int64  \n",
      " 8   victim_name        10000 non-null  object \n",
      " 9   victim_placement   9807 non-null   float64\n",
      " 10  victim_position_x  10000 non-null  float64\n",
      " 11  victim_position_y  10000 non-null  float64\n",
      " 12  dead               10000 non-null  bool   \n",
      "dtypes: bool(1), float64(6), int64(1), object(5)\n",
      "memory usage: 947.4+ KB\n"
     ]
    }
   ],
   "source": [
    "agg2.info()"
   ]
  },
  {
   "cell_type": "code",
   "execution_count": 92,
   "metadata": {},
   "outputs": [
    {
     "name": "stdout",
     "output_type": "stream",
     "text": [
      "<class 'pandas.core.frame.DataFrame'>\n",
      "RangeIndex: 10000 entries, 0 to 9999\n",
      "Data columns (total 13 columns):\n",
      " #   Column             Non-Null Count  Dtype  \n",
      "---  ------             --------------  -----  \n",
      " 0   killed_by          10000 non-null  object \n",
      " 1   killer_name        9245 non-null   object \n",
      " 2   killer_placement   9245 non-null   float64\n",
      " 3   killer_position_x  9245 non-null   float64\n",
      " 4   killer_position_y  9245 non-null   float64\n",
      " 5   map                10000 non-null  object \n",
      " 6   match_id           10000 non-null  object \n",
      " 7   time               10000 non-null  int64  \n",
      " 8   victim_name        10000 non-null  object \n",
      " 9   victim_placement   9807 non-null   float64\n",
      " 10  victim_position_x  10000 non-null  float64\n",
      " 11  victim_position_y  10000 non-null  float64\n",
      " 12  dead               10000 non-null  bool   \n",
      "dtypes: bool(1), float64(6), int64(1), object(5)\n",
      "memory usage: 947.4+ KB\n"
     ]
    }
   ],
   "source": [
    "agg2.info(12)"
   ]
  },
  {
   "cell_type": "code",
   "execution_count": null,
   "metadata": {},
   "outputs": [],
   "source": []
  }
 ],
 "metadata": {
  "kernelspec": {
   "display_name": "Python 3",
   "language": "python",
   "name": "python3"
  },
  "language_info": {
   "codemirror_mode": {
    "name": "ipython",
    "version": 3
   },
   "file_extension": ".py",
   "mimetype": "text/x-python",
   "name": "python",
   "nbconvert_exporter": "python",
   "pygments_lexer": "ipython3",
   "version": "3.8.5"
  }
 },
 "nbformat": 4,
 "nbformat_minor": 4
}
